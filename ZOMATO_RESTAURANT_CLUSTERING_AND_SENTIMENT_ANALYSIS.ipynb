{
  "nbformat": 4,
  "nbformat_minor": 0,
  "metadata": {
    "colab": {
      "name": "ZOMATO RESTAURANT CLUSTERING AND SENTIMENT ANALYSIS.ipynb",
      "provenance": [],
      "collapsed_sections": [],
      "include_colab_link": true
    },
    "kernelspec": {
      "name": "python3",
      "display_name": "Python 3"
    },
    "language_info": {
      "name": "python"
    }
  },
  "cells": [
    {
      "cell_type": "markdown",
      "metadata": {
        "id": "view-in-github",
        "colab_type": "text"
      },
      "source": [
        "<a href=\"https://colab.research.google.com/github/Selva-Subramanian/Zomato-restaurant-clustering-Sentiment-Analysis/blob/main/ZOMATO_RESTAURANT_CLUSTERING_AND_SENTIMENT_ANALYSIS.ipynb\" target=\"_parent\"><img src=\"https://colab.research.google.com/assets/colab-badge.svg\" alt=\"Open In Colab\"/></a>"
      ]
    },
    {
      "cell_type": "markdown",
      "metadata": {
        "id": "LGcl5Bv9ed6u"
      },
      "source": [
        "# **Problem Statement**"
      ]
    },
    {
      "cell_type": "markdown",
      "metadata": {
        "id": "Dtb2te3Omis9"
      },
      "source": [
        "Zomato is an Indian restaurant aggregator and food delivery start-up founded by Deepinder Goyal and Pankaj Chaddah in 2008. Zomato provides information, menus and user-reviews of restaurants, and also has food delivery options from partner restaurants in select cities.\n",
        "\n",
        "India is quite famous for its diverse multi cuisine available in a large number of restaurants and hotel resorts, which is reminiscent of unity in diversity. Restaurant business in India is always evolving. More Indians are warming up to the idea of eating restaurant food whether by dining outside or getting food delivered. The growing number of restaurants in every state of India has been a motivation to inspect the data to get some insights, interesting facts and figures about the Indian food industry in each city. So, this project focuses on analysing the Zomato restaurant data for each city in India.\n",
        "\n",
        "The Project focuses on Customers and Company, you have  to analyze the sentiments of the reviews given by the customer in the data and made some useful conclusion in the form of Visualizations. Also, cluster the zomato restaurants into different segments. The data is vizualized as it becomes easy to analyse data at instant. The Analysis also solve some of the business cases that can directly help the customers finding the Best restaurant in their locality and for the company to grow up and work on the fields they are currently lagging in.\n",
        "\n",
        "This could help in clustering the restaurants into segments. Also the data has valuable information around cuisine and costing which can be used in cost vs. benefit analysis\n",
        "\n",
        "Data could be used for sentiment analysis. Also the metadata of reviewers can be used for identifying the critics in the industry. "
      ]
    },
    {
      "cell_type": "markdown",
      "metadata": {
        "id": "AzGDqdC4fZ-b"
      },
      "source": [
        "# **Attribute Information**"
      ]
    },
    {
      "cell_type": "markdown",
      "metadata": {
        "id": "1rDsYX7KtvFb"
      },
      "source": [
        "## **Zomato Restaurant names and Metadata**\n",
        "Use this dataset for clustering part"
      ]
    },
    {
      "cell_type": "markdown",
      "metadata": {
        "id": "3uB3PQRXtz-A"
      },
      "source": [
        "1. Name : Name of Restaurants\n",
        "\n",
        "2. Links : URL Links of Restaurants\n",
        "\n",
        "3. Cost : Per person estimated Cost of dining\n",
        "\n",
        "4. Collection : Tagging of Restaurants w.r.t. Zomato categories\n",
        "\n",
        "5. Cuisines : Cuisines served by Restaurants\n",
        "\n",
        "6. Timings : Restaurant Timings"
      ]
    },
    {
      "cell_type": "markdown",
      "metadata": {
        "id": "Pq7CVNxQuT8i"
      },
      "source": [
        "## **Zomato Restaurant reviews**\n",
        "Merge this dataset with Names and Matadata and then use for sentiment analysis part"
      ]
    },
    {
      "cell_type": "markdown",
      "metadata": {
        "id": "k9E4XoEGuc0G"
      },
      "source": [
        "1. Restaurant : Name of the Restaurant\n",
        "\n",
        "2. Reviewer : Name of the Reviewer\n",
        "\n",
        "3. Review : Review Text\n",
        "\n",
        "4. Rating : Rating Provided by Reviewer\n",
        "\n",
        "5. MetaData : Reviewer Metadata - No. of Reviews and followers\n",
        "\n",
        "6. Time: Date and Time of Review\n",
        "\n",
        "7. Pictures : No. of pictures posted with review"
      ]
    },
    {
      "cell_type": "code",
      "metadata": {
        "colab": {
          "base_uri": "https://localhost:8080/"
        },
        "id": "QnkhUttcS8ap",
        "outputId": "5b2f857b-750d-42d6-b5be-c0dca81a3689"
      },
      "source": [
        "from google.colab import drive\n",
        "drive.mount('/content/drive')"
      ],
      "execution_count": 1,
      "outputs": [
        {
          "output_type": "stream",
          "name": "stdout",
          "text": [
            "Mounted at /content/drive\n"
          ]
        }
      ]
    },
    {
      "cell_type": "markdown",
      "source": [
        "### <b> Importing the required libraries"
      ],
      "metadata": {
        "id": "ai1faM56E4Wx"
      }
    },
    {
      "cell_type": "code",
      "metadata": {
        "id": "KFxjm9O80clR"
      },
      "source": [
        "import numpy as np # for numerical computation\n",
        "import pandas as pd # for data manipulation\n",
        "import math\n",
        "\n",
        "%matplotlib inline\n",
        "import matplotlib.pyplot as plt # for plotting visuals\n",
        "import seaborn as sns\n",
        "plt.style.use('seaborn')\n",
        "\n",
        "from sklearn.cluster import KMeans \n",
        "\n"
      ],
      "execution_count": 271,
      "outputs": []
    },
    {
      "cell_type": "code",
      "metadata": {
        "id": "tdHLql8ddvnz"
      },
      "source": [
        "# load the dataset\n",
        "working_dir_path = '/content/drive/MyDrive/Colab Notebooks/AlmaBetter Notebooks/Capstone projects/CP4 - Unsupervised - Clustering/'\n",
        "df1 = pd.read_csv(working_dir_path + 'Zomato Restaurant names and Metadata.csv')\n",
        "df2 = pd.read_csv(working_dir_path + 'Zomato Restaurant reviews.csv')"
      ],
      "execution_count": 335,
      "outputs": []
    },
    {
      "cell_type": "markdown",
      "source": [
        "### <b> Data Inspection"
      ],
      "metadata": {
        "id": "Q_j3hz_uQuZT"
      }
    },
    {
      "cell_type": "code",
      "metadata": {
        "colab": {
          "base_uri": "https://localhost:8080/",
          "height": 293
        },
        "id": "AiGq3nvbeQ2o",
        "outputId": "238b5e0c-5168-46dd-b2b0-8d612433fb0c"
      },
      "source": [
        "# sample of the dataset\n",
        "df1.head()"
      ],
      "execution_count": 336,
      "outputs": [
        {
          "output_type": "execute_result",
          "data": {
            "text/html": [
              "<div>\n",
              "<style scoped>\n",
              "    .dataframe tbody tr th:only-of-type {\n",
              "        vertical-align: middle;\n",
              "    }\n",
              "\n",
              "    .dataframe tbody tr th {\n",
              "        vertical-align: top;\n",
              "    }\n",
              "\n",
              "    .dataframe thead th {\n",
              "        text-align: right;\n",
              "    }\n",
              "</style>\n",
              "<table border=\"1\" class=\"dataframe\">\n",
              "  <thead>\n",
              "    <tr style=\"text-align: right;\">\n",
              "      <th></th>\n",
              "      <th>Name</th>\n",
              "      <th>Links</th>\n",
              "      <th>Cost</th>\n",
              "      <th>Collections</th>\n",
              "      <th>Cuisines</th>\n",
              "      <th>Timings</th>\n",
              "    </tr>\n",
              "  </thead>\n",
              "  <tbody>\n",
              "    <tr>\n",
              "      <th>0</th>\n",
              "      <td>Beyond Flavours</td>\n",
              "      <td>https://www.zomato.com/hyderabad/beyond-flavou...</td>\n",
              "      <td>800</td>\n",
              "      <td>Food Hygiene Rated Restaurants in Hyderabad, C...</td>\n",
              "      <td>Chinese, Continental, Kebab, European, South I...</td>\n",
              "      <td>12noon to 3:30pm, 6:30pm to 11:30pm (Mon-Sun)</td>\n",
              "    </tr>\n",
              "    <tr>\n",
              "      <th>1</th>\n",
              "      <td>Paradise</td>\n",
              "      <td>https://www.zomato.com/hyderabad/paradise-gach...</td>\n",
              "      <td>800</td>\n",
              "      <td>Hyderabad's Hottest</td>\n",
              "      <td>Biryani, North Indian, Chinese</td>\n",
              "      <td>11 AM to 11 PM</td>\n",
              "    </tr>\n",
              "    <tr>\n",
              "      <th>2</th>\n",
              "      <td>Flechazo</td>\n",
              "      <td>https://www.zomato.com/hyderabad/flechazo-gach...</td>\n",
              "      <td>1,300</td>\n",
              "      <td>Great Buffets, Hyderabad's Hottest</td>\n",
              "      <td>Asian, Mediterranean, North Indian, Desserts</td>\n",
              "      <td>11:30 AM to 4:30 PM, 6:30 PM to 11 PM</td>\n",
              "    </tr>\n",
              "    <tr>\n",
              "      <th>3</th>\n",
              "      <td>Shah Ghouse Hotel &amp; Restaurant</td>\n",
              "      <td>https://www.zomato.com/hyderabad/shah-ghouse-h...</td>\n",
              "      <td>800</td>\n",
              "      <td>Late Night Restaurants</td>\n",
              "      <td>Biryani, North Indian, Chinese, Seafood, Bever...</td>\n",
              "      <td>12 Noon to 2 AM</td>\n",
              "    </tr>\n",
              "    <tr>\n",
              "      <th>4</th>\n",
              "      <td>Over The Moon Brew Company</td>\n",
              "      <td>https://www.zomato.com/hyderabad/over-the-moon...</td>\n",
              "      <td>1,200</td>\n",
              "      <td>Best Bars &amp; Pubs, Food Hygiene Rated Restauran...</td>\n",
              "      <td>Asian, Continental, North Indian, Chinese, Med...</td>\n",
              "      <td>12noon to 11pm (Mon, Tue, Wed, Thu, Sun), 12no...</td>\n",
              "    </tr>\n",
              "  </tbody>\n",
              "</table>\n",
              "</div>"
            ],
            "text/plain": [
              "                             Name  ...                                            Timings\n",
              "0                 Beyond Flavours  ...      12noon to 3:30pm, 6:30pm to 11:30pm (Mon-Sun)\n",
              "1                        Paradise  ...                                     11 AM to 11 PM\n",
              "2                        Flechazo  ...              11:30 AM to 4:30 PM, 6:30 PM to 11 PM\n",
              "3  Shah Ghouse Hotel & Restaurant  ...                                    12 Noon to 2 AM\n",
              "4      Over The Moon Brew Company  ...  12noon to 11pm (Mon, Tue, Wed, Thu, Sun), 12no...\n",
              "\n",
              "[5 rows x 6 columns]"
            ]
          },
          "metadata": {},
          "execution_count": 336
        }
      ]
    },
    {
      "cell_type": "code",
      "metadata": {
        "colab": {
          "base_uri": "https://localhost:8080/"
        },
        "id": "muK_GksE83UX",
        "outputId": "a74448c4-2b6e-4008-82f2-501733dd8a32"
      },
      "source": [
        "# brief info of the dataset \n",
        "df1.info()"
      ],
      "execution_count": 337,
      "outputs": [
        {
          "output_type": "stream",
          "name": "stdout",
          "text": [
            "<class 'pandas.core.frame.DataFrame'>\n",
            "RangeIndex: 105 entries, 0 to 104\n",
            "Data columns (total 6 columns):\n",
            " #   Column       Non-Null Count  Dtype \n",
            "---  ------       --------------  ----- \n",
            " 0   Name         105 non-null    object\n",
            " 1   Links        105 non-null    object\n",
            " 2   Cost         105 non-null    object\n",
            " 3   Collections  51 non-null     object\n",
            " 4   Cuisines     105 non-null    object\n",
            " 5   Timings      104 non-null    object\n",
            "dtypes: object(6)\n",
            "memory usage: 5.0+ KB\n"
          ]
        }
      ]
    },
    {
      "cell_type": "code",
      "source": [
        "# brief description of the dataset\n",
        "pd.set_option('display.max_rows', None)\n",
        "df1.describe()"
      ],
      "metadata": {
        "colab": {
          "base_uri": "https://localhost:8080/",
          "height": 174
        },
        "id": "DnSVWgwDTA-H",
        "outputId": "b1f7f2a1-5f56-4738-ccf1-f0754dda2b94"
      },
      "execution_count": 338,
      "outputs": [
        {
          "output_type": "execute_result",
          "data": {
            "text/html": [
              "<div>\n",
              "<style scoped>\n",
              "    .dataframe tbody tr th:only-of-type {\n",
              "        vertical-align: middle;\n",
              "    }\n",
              "\n",
              "    .dataframe tbody tr th {\n",
              "        vertical-align: top;\n",
              "    }\n",
              "\n",
              "    .dataframe thead th {\n",
              "        text-align: right;\n",
              "    }\n",
              "</style>\n",
              "<table border=\"1\" class=\"dataframe\">\n",
              "  <thead>\n",
              "    <tr style=\"text-align: right;\">\n",
              "      <th></th>\n",
              "      <th>Name</th>\n",
              "      <th>Links</th>\n",
              "      <th>Cost</th>\n",
              "      <th>Collections</th>\n",
              "      <th>Cuisines</th>\n",
              "      <th>Timings</th>\n",
              "    </tr>\n",
              "  </thead>\n",
              "  <tbody>\n",
              "    <tr>\n",
              "      <th>count</th>\n",
              "      <td>105</td>\n",
              "      <td>105</td>\n",
              "      <td>105</td>\n",
              "      <td>51</td>\n",
              "      <td>105</td>\n",
              "      <td>104</td>\n",
              "    </tr>\n",
              "    <tr>\n",
              "      <th>unique</th>\n",
              "      <td>105</td>\n",
              "      <td>105</td>\n",
              "      <td>29</td>\n",
              "      <td>42</td>\n",
              "      <td>92</td>\n",
              "      <td>77</td>\n",
              "    </tr>\n",
              "    <tr>\n",
              "      <th>top</th>\n",
              "      <td>B-Dubs</td>\n",
              "      <td>https://www.zomato.com/hyderabad/the-glass-oni...</td>\n",
              "      <td>500</td>\n",
              "      <td>Food Hygiene Rated Restaurants in Hyderabad</td>\n",
              "      <td>North Indian, Chinese</td>\n",
              "      <td>11 AM to 11 PM</td>\n",
              "    </tr>\n",
              "    <tr>\n",
              "      <th>freq</th>\n",
              "      <td>1</td>\n",
              "      <td>1</td>\n",
              "      <td>13</td>\n",
              "      <td>4</td>\n",
              "      <td>4</td>\n",
              "      <td>6</td>\n",
              "    </tr>\n",
              "  </tbody>\n",
              "</table>\n",
              "</div>"
            ],
            "text/plain": [
              "          Name  ...         Timings\n",
              "count      105  ...             104\n",
              "unique     105  ...              77\n",
              "top     B-Dubs  ...  11 AM to 11 PM\n",
              "freq         1  ...               6\n",
              "\n",
              "[4 rows x 6 columns]"
            ]
          },
          "metadata": {},
          "execution_count": 338
        }
      ]
    },
    {
      "cell_type": "code",
      "metadata": {
        "colab": {
          "base_uri": "https://localhost:8080/"
        },
        "id": "4hwgGSlT88et",
        "outputId": "1f5adf24-8bbb-407b-830b-bb3e9f1657f3"
      },
      "source": [
        "# columns in the datset\n",
        "df1.columns"
      ],
      "execution_count": 339,
      "outputs": [
        {
          "output_type": "execute_result",
          "data": {
            "text/plain": [
              "Index(['Name', 'Links', 'Cost', 'Collections', 'Cuisines', 'Timings'], dtype='object')"
            ]
          },
          "metadata": {},
          "execution_count": 339
        }
      ]
    },
    {
      "cell_type": "markdown",
      "metadata": {
        "id": "2wHLwAI--0bu"
      },
      "source": [
        "#### All restaurants have links and it is not much useful so let's just drop it. \n"
      ]
    },
    {
      "cell_type": "code",
      "metadata": {
        "id": "uidVKmN0_Pr0"
      },
      "source": [
        "# Drop columns\n",
        "df1 = df1.drop(['Links'], axis=1)"
      ],
      "execution_count": 340,
      "outputs": []
    },
    {
      "cell_type": "code",
      "source": [
        "# replace null values with a string\n",
        "df1 = df1.fillna('no info')\n",
        "df1['Timings'][30] = 'no info'"
      ],
      "metadata": {
        "id": "DGKdYzfGeg9b"
      },
      "execution_count": 341,
      "outputs": []
    },
    {
      "cell_type": "code",
      "source": [
        "# formatting the string in  Timings feature\n",
        "\n",
        "word_list = [[['noon','Noon','PM'],['p.m.']],[['midnight','Midnight','AM'],['a.m.']]]\n",
        "for i in word_list:\n",
        "  j = i[1][0]\n",
        "  for k in i[0]:\n",
        "    df1['Timings'] = df1['Timings'].str.replace(k,j)"
      ],
      "metadata": {
        "id": "91YWH0mATS6y"
      },
      "execution_count": 342,
      "outputs": []
    },
    {
      "cell_type": "markdown",
      "source": [
        "### <b> Exploratory Data Analysis"
      ],
      "metadata": {
        "id": "K0nmKcBKSQgK"
      }
    },
    {
      "cell_type": "markdown",
      "source": [
        "##### <b> Unique values in our features\n",
        "\n",
        "\n",
        "\n"
      ],
      "metadata": {
        "id": "1DgLL7l-RcLV"
      }
    },
    {
      "cell_type": "code",
      "source": [
        "# initialize empty lists\n",
        "Unique_Collections = []\n",
        "Unique_Cuisines = []\n",
        "\n",
        "# features list\n",
        "unique_list = [Unique_Collections, Unique_Cuisines]\n",
        "\n",
        "# logic to extract unique values in the features\n",
        "sum = 0\n",
        "for i in df1.columns[2:-1]:\n",
        "  l = unique_list[sum]\n",
        "  sum += 1\n",
        "  for j in range(len(df1[i])):\n",
        "    for k in list(df1[i])[j].split(','):\n",
        "      if k not in l and k[1:] not in l:\n",
        "        if k[0]==' ':\n",
        "          l.append(k[1:])\n",
        "        else:\n",
        "          l.append(k)\n",
        "\n",
        "# number of unique items in the features\n",
        "print(f\"Total unique values in the feature 'Cost' is {len(df1['Cost'].value_counts())}\\n\")\n",
        "for n,m in enumerate(df1.columns[2:-1]):\n",
        "  print(f\"Total unique values in the feature '{m}' is {len(unique_list[n])}\\n\")"
      ],
      "metadata": {
        "id": "Nxzr4r74d1mh",
        "colab": {
          "base_uri": "https://localhost:8080/"
        },
        "outputId": "defe4586-e582-4011-ae37-2e6e24901728"
      },
      "execution_count": 343,
      "outputs": [
        {
          "output_type": "stream",
          "name": "stdout",
          "text": [
            "Total unique values in the feature 'Cost' is 29\n",
            "\n",
            "Total unique values in the feature 'Collections' is 38\n",
            "\n",
            "Total unique values in the feature 'Cuisines' is 44\n",
            "\n"
          ]
        }
      ]
    },
    {
      "cell_type": "code",
      "metadata": {
        "id": "YhIHukPcVl89"
      },
      "source": [
        "# count of unique items in the features\n",
        "\n",
        "features = ['Collections', 'Cuisines']\n",
        "unique_count = {}\n",
        "k = {}\n",
        "m = {}\n",
        "for l in df1['Cost'].unique():\n",
        "  m[l] = list(df1['Cost'].values).count(l)\n",
        "unique_count['Cost'] = m\n",
        "sum = 0\n",
        "for i in unique_list:\n",
        "  feature_list = []\n",
        "  df1[features[sum]] = df1[features[sum]].apply(lambda x: x.split(','))\n",
        "  df1[features[sum]].apply(lambda x: feature_list.extend(x))\n",
        "  feature_list = [x[1:] if x[0]==' ' else x[:] for x in feature_list]\n",
        "  for j in i:\n",
        "    k[j] = feature_list.count(j)\n",
        "  unique_count[features[sum]] = k\n",
        "  sum += 1 \n",
        "  "
      ],
      "execution_count": 344,
      "outputs": []
    },
    {
      "cell_type": "code",
      "source": [
        "unique_count"
      ],
      "metadata": {
        "colab": {
          "base_uri": "https://localhost:8080/"
        },
        "id": "5Of6bqjp70-N",
        "outputId": "dcd518a6-7d6b-49fc-c65f-6738a247dd03"
      },
      "execution_count": 345,
      "outputs": [
        {
          "output_type": "execute_result",
          "data": {
            "text/plain": [
              "{'Collections': {'American': 6,\n",
              "  'Andhra': 6,\n",
              "  'Arabian': 2,\n",
              "  'Asian': 15,\n",
              "  'BBQ': 2,\n",
              "  'Bakery': 7,\n",
              "  'Barbecue & Grill': 3,\n",
              "  'Best Bakeries': 1,\n",
              "  'Best Bars & Pubs': 4,\n",
              "  'Best Milkshakes': 1,\n",
              "  'Best shawarmas': 1,\n",
              "  'Beverages': 5,\n",
              "  'Biryani': 16,\n",
              "  'Brilliant Biryanis': 1,\n",
              "  'Burger': 5,\n",
              "  'Cafe': 6,\n",
              "  'Chinese': 43,\n",
              "  'Continental': 21,\n",
              "  'Corporate Favorites': 6,\n",
              "  'Desserts': 13,\n",
              "  'European': 4,\n",
              "  'Fancy and Fun': 2,\n",
              "  'Fast Food': 15,\n",
              "  'Finger Food': 2,\n",
              "  'Food Hygiene Rated Restaurants in Hyderabad': 8,\n",
              "  'Frozen Delights': 1,\n",
              "  'Function Venues': 2,\n",
              "  'Gigs and Events': 3,\n",
              "  'Goan': 1,\n",
              "  'Gold Curated': 5,\n",
              "  'Great Breakfasts': 2,\n",
              "  'Great Buffets': 11,\n",
              "  'Great Italian': 1,\n",
              "  'Haleem': 1,\n",
              "  'Happy Hours': 3,\n",
              "  'Healthy Food': 1,\n",
              "  \"Hyderabad's Hottest\": 7,\n",
              "  'Hyderabadi': 4,\n",
              "  'Ice Cream': 2,\n",
              "  'Indonesian': 1,\n",
              "  'Italian': 14,\n",
              "  'Japanese': 2,\n",
              "  'Juices': 1,\n",
              "  'Kebab': 6,\n",
              "  'Late Night Restaurants': 2,\n",
              "  'Lebanese': 1,\n",
              "  'Live Sports Screenings': 7,\n",
              "  'Malaysian': 1,\n",
              "  'Mandi': 1,\n",
              "  'Mediterranean': 5,\n",
              "  'Mexican': 1,\n",
              "  'Mithai': 1,\n",
              "  'Modern Indian': 2,\n",
              "  'Momos': 4,\n",
              "  'Mughlai': 6,\n",
              "  'New on Gold': 2,\n",
              "  'North Eastern': 1,\n",
              "  'North Indian': 61,\n",
              "  'Pan-Asian Delicacies': 2,\n",
              "  'Pizza': 1,\n",
              "  'Pocket Friendly': 1,\n",
              "  'Ramzan Mubarak': 1,\n",
              "  'Regional Favorites': 1,\n",
              "  'Rooftops': 2,\n",
              "  'Salad': 5,\n",
              "  'Seafood': 4,\n",
              "  'Sneak Peek Hyderabad': 2,\n",
              "  'South Indian': 9,\n",
              "  'Spanish': 1,\n",
              "  'Street Food': 2,\n",
              "  'Sunday Brunches': 4,\n",
              "  'Sushi': 4,\n",
              "  'Terrific Thalis': 1,\n",
              "  'Thai': 3,\n",
              "  'The ‘Must Visit’ Eateries': 1,\n",
              "  'Top Drinking Destinations': 1,\n",
              "  'Top-Rated': 5,\n",
              "  'Trending This Week': 5,\n",
              "  'Veggie Friendly': 4,\n",
              "  'Wraps': 1,\n",
              "  'no info': 54},\n",
              " 'Cost': {'1,000': 6,\n",
              "  '1,100': 3,\n",
              "  '1,200': 7,\n",
              "  '1,300': 4,\n",
              "  '1,400': 2,\n",
              "  '1,500': 5,\n",
              "  '1,600': 3,\n",
              "  '1,700': 2,\n",
              "  '1,750': 1,\n",
              "  '1,800': 1,\n",
              "  '1,900': 2,\n",
              "  '150': 2,\n",
              "  '2,500': 1,\n",
              "  '2,800': 1,\n",
              "  '200': 5,\n",
              "  '250': 1,\n",
              "  '300': 1,\n",
              "  '350': 3,\n",
              "  '400': 6,\n",
              "  '450': 2,\n",
              "  '500': 13,\n",
              "  '550': 3,\n",
              "  '600': 10,\n",
              "  '650': 1,\n",
              "  '700': 8,\n",
              "  '750': 3,\n",
              "  '800': 5,\n",
              "  '850': 1,\n",
              "  '900': 3},\n",
              " 'Cuisines': {'American': 6,\n",
              "  'Andhra': 6,\n",
              "  'Arabian': 2,\n",
              "  'Asian': 15,\n",
              "  'BBQ': 2,\n",
              "  'Bakery': 7,\n",
              "  'Barbecue & Grill': 3,\n",
              "  'Best Bakeries': 1,\n",
              "  'Best Bars & Pubs': 4,\n",
              "  'Best Milkshakes': 1,\n",
              "  'Best shawarmas': 1,\n",
              "  'Beverages': 5,\n",
              "  'Biryani': 16,\n",
              "  'Brilliant Biryanis': 1,\n",
              "  'Burger': 5,\n",
              "  'Cafe': 6,\n",
              "  'Chinese': 43,\n",
              "  'Continental': 21,\n",
              "  'Corporate Favorites': 6,\n",
              "  'Desserts': 13,\n",
              "  'European': 4,\n",
              "  'Fancy and Fun': 2,\n",
              "  'Fast Food': 15,\n",
              "  'Finger Food': 2,\n",
              "  'Food Hygiene Rated Restaurants in Hyderabad': 8,\n",
              "  'Frozen Delights': 1,\n",
              "  'Function Venues': 2,\n",
              "  'Gigs and Events': 3,\n",
              "  'Goan': 1,\n",
              "  'Gold Curated': 5,\n",
              "  'Great Breakfasts': 2,\n",
              "  'Great Buffets': 11,\n",
              "  'Great Italian': 1,\n",
              "  'Haleem': 1,\n",
              "  'Happy Hours': 3,\n",
              "  'Healthy Food': 1,\n",
              "  \"Hyderabad's Hottest\": 7,\n",
              "  'Hyderabadi': 4,\n",
              "  'Ice Cream': 2,\n",
              "  'Indonesian': 1,\n",
              "  'Italian': 14,\n",
              "  'Japanese': 2,\n",
              "  'Juices': 1,\n",
              "  'Kebab': 6,\n",
              "  'Late Night Restaurants': 2,\n",
              "  'Lebanese': 1,\n",
              "  'Live Sports Screenings': 7,\n",
              "  'Malaysian': 1,\n",
              "  'Mandi': 1,\n",
              "  'Mediterranean': 5,\n",
              "  'Mexican': 1,\n",
              "  'Mithai': 1,\n",
              "  'Modern Indian': 2,\n",
              "  'Momos': 4,\n",
              "  'Mughlai': 6,\n",
              "  'New on Gold': 2,\n",
              "  'North Eastern': 1,\n",
              "  'North Indian': 61,\n",
              "  'Pan-Asian Delicacies': 2,\n",
              "  'Pizza': 1,\n",
              "  'Pocket Friendly': 1,\n",
              "  'Ramzan Mubarak': 1,\n",
              "  'Regional Favorites': 1,\n",
              "  'Rooftops': 2,\n",
              "  'Salad': 5,\n",
              "  'Seafood': 4,\n",
              "  'Sneak Peek Hyderabad': 2,\n",
              "  'South Indian': 9,\n",
              "  'Spanish': 1,\n",
              "  'Street Food': 2,\n",
              "  'Sunday Brunches': 4,\n",
              "  'Sushi': 4,\n",
              "  'Terrific Thalis': 1,\n",
              "  'Thai': 3,\n",
              "  'The ‘Must Visit’ Eateries': 1,\n",
              "  'Top Drinking Destinations': 1,\n",
              "  'Top-Rated': 5,\n",
              "  'Trending This Week': 5,\n",
              "  'Veggie Friendly': 4,\n",
              "  'Wraps': 1,\n",
              "  'no info': 54}}"
            ]
          },
          "metadata": {},
          "execution_count": 345
        }
      ]
    },
    {
      "cell_type": "code",
      "source": [
        ""
      ],
      "metadata": {
        "id": "5l4eROIZTmsp"
      },
      "execution_count": null,
      "outputs": []
    },
    {
      "cell_type": "code",
      "source": [
        ""
      ],
      "metadata": {
        "id": "2mT89bRGB9J0"
      },
      "execution_count": null,
      "outputs": []
    },
    {
      "cell_type": "code",
      "source": [
        ""
      ],
      "metadata": {
        "id": "QXeI2i44B9Oy"
      },
      "execution_count": null,
      "outputs": []
    },
    {
      "cell_type": "code",
      "source": [
        ""
      ],
      "metadata": {
        "id": "5FEXVNPGB9Tv"
      },
      "execution_count": null,
      "outputs": []
    },
    {
      "cell_type": "code",
      "source": [
        ""
      ],
      "metadata": {
        "id": "ZXANrJ14B9YV"
      },
      "execution_count": null,
      "outputs": []
    },
    {
      "cell_type": "markdown",
      "metadata": {
        "id": "N70LIzkdxEUZ"
      },
      "source": [
        "### <b> Feature Engineering"
      ]
    },
    {
      "cell_type": "code",
      "source": [
        ""
      ],
      "metadata": {
        "id": "2gZAVl6AB-QX"
      },
      "execution_count": null,
      "outputs": []
    },
    {
      "cell_type": "code",
      "source": [
        ""
      ],
      "metadata": {
        "id": "XV5PpmhmB-Vd"
      },
      "execution_count": null,
      "outputs": []
    },
    {
      "cell_type": "code",
      "source": [
        ""
      ],
      "metadata": {
        "id": "G16qFeu1B-Z9"
      },
      "execution_count": null,
      "outputs": []
    },
    {
      "cell_type": "code",
      "source": [
        ""
      ],
      "metadata": {
        "id": "ySj_JPZVB-eY"
      },
      "execution_count": null,
      "outputs": []
    },
    {
      "cell_type": "markdown",
      "metadata": {
        "id": "ZLfU6Sq0xVvo"
      },
      "source": [
        "#### Clustering is based on similarity which is measured using distance, so it is necessary to have numerical(continuous) columns so as to quantify distance and compute similarity. Let's engineer such features. "
      ]
    },
    {
      "cell_type": "code",
      "source": [
        "# !pip install kmodes\n",
        "# from kmodes.kmodes import KModes"
      ],
      "metadata": {
        "id": "XB4Eo97ZsQ4E"
      },
      "execution_count": null,
      "outputs": []
    },
    {
      "cell_type": "code",
      "metadata": {
        "id": "jqOzrOaKegg2"
      },
      "source": [
        "# # Elbow curve to find optimal K\n",
        "# cost = []\n",
        "# K = range(1,5)\n",
        "# for num_clusters in list(K):\n",
        "#     kmode = KModes(n_clusters=num_clusters, init = \"random\", n_init = 5, verbose=1)\n",
        "#     kmode.fit_predict(x)\n",
        "#     cost.append(kmode.cost_)\n",
        "    \n",
        "# plt.plot(K, cost, 'bx-')\n",
        "# plt.xlabel('No. of clusters')\n",
        "# plt.ylabel('Cost')\n",
        "# plt.title('Elbow Method For Optimal k')\n",
        "# plt.show()"
      ],
      "execution_count": null,
      "outputs": []
    },
    {
      "cell_type": "code",
      "metadata": {
        "id": "n1On-c0H_JB9"
      },
      "source": [
        "# x.insert(0, \"Cluster\", clusters, True)\n",
        "# x"
      ],
      "execution_count": null,
      "outputs": []
    },
    {
      "cell_type": "code",
      "metadata": {
        "id": "ScgkiPHSu1Iq"
      },
      "source": [
        "# # Install gower\n",
        "# !pip install gower"
      ],
      "execution_count": null,
      "outputs": []
    },
    {
      "cell_type": "code",
      "metadata": {
        "id": "3JjmCd22_OwZ"
      },
      "source": [
        "# # Plot dendrogram\n",
        "# import gower\n",
        "# import scipy.cluster.hierarchy as sch\n",
        "# plt.figure(figsize=(30,10))\n",
        "# dendrogram = sch.dendrogram(sch.linkage(df1['Cost'], method = 'ward'))\n",
        "# plt.title('Dendrogram')\n",
        "# plt.xlabel('Restaurants')\n",
        "# plt.ylabel('Euclidean Distances')\n",
        "# plt.show()"
      ],
      "execution_count": null,
      "outputs": []
    },
    {
      "cell_type": "code",
      "metadata": {
        "id": "_WIX_fVyuQhl"
      },
      "source": [
        "# df1['Cost'] = df1['Cost'].str.replace(',','')\n",
        "# df1['Cost'] = df1['Cost'].astype(float)"
      ],
      "execution_count": null,
      "outputs": []
    },
    {
      "cell_type": "code",
      "metadata": {
        "id": "vVrClGS-D_IU"
      },
      "source": [
        "# X = df1['Cost']"
      ],
      "execution_count": null,
      "outputs": []
    },
    {
      "cell_type": "code",
      "metadata": {
        "id": "1IlPBZovEPGc"
      },
      "source": [
        "# X = np.array(X).reshape(-1,1)"
      ],
      "execution_count": null,
      "outputs": []
    },
    {
      "cell_type": "code",
      "metadata": {
        "id": "m1lQt1bfEqCx"
      },
      "source": [
        "# from sklearn.cluster import KMeans\n",
        "# kmeans = KMeans(n_clusters=5)\n",
        "# kmeans.fit(X)\n",
        "# y_kmeans = kmeans.predict(X)"
      ],
      "execution_count": null,
      "outputs": []
    },
    {
      "cell_type": "code",
      "metadata": {
        "id": "dOKNcsKFEQcy"
      },
      "source": [
        "# plt.figure(figsize=(20,5))\n",
        "# plt.scatter(df1['Name'], X[:, 0], c=y_kmeans, s=50, cmap='viridis')\n",
        "\n",
        "# # centers = kmeans.cluster_centers_\n",
        "# # plt.scatter(centers[:, 0], centers[:, 1], c='black', s=200, alpha=0.5)"
      ],
      "execution_count": null,
      "outputs": []
    },
    {
      "cell_type": "code",
      "metadata": {
        "id": "dV54TyDwFg_q"
      },
      "source": [
        ""
      ],
      "execution_count": null,
      "outputs": []
    }
  ]
}